{
 "cells": [
  {
   "cell_type": "markdown",
   "metadata": {},
   "source": [
    "# Adquisidor FPGA\n",
    "\n",
    "Este proyecto permite realizar adquisiciones de señales usando una FPGA configurada con un bitstream compatible. La adquisición implementa promediado coherente y sobremuestreo, permitiendo una captura precisa de señales periódicas.\n",
    "\n",
    "## 📦 Archivos\n",
    "\n",
    "- `adquisidor.py`: Clase principal con métodos para configurar y adquirir las señales.\n",
    "- `condiciones_adquisicion.py`: Define condiciones de adquisición y modos de disparo (`TriggerMode`).\n",
    "- `fpga_bridge.py`: Módulo auxiliar para leer/escribir registros en la FPGA.\n",
    "\n",
    "## 🔧 Métodos principales (adquisidor_functions.py)\n",
    "\n",
    "- `adquisidor.set_fpga(name)`: Carga un bitstream en la FPGA. Solo hacer una vez (igual se da cuenta de no sobreescribir)\n",
    "- `adquisidor.adquirir(CondicionesAdquisicion cond)`: Adquiere los dos canales del ADC. \n",
    "\n",
    "\n",
    "## ⚙️ Uso\n",
    "\n",
    "### 1. Crear condiciones de adquisicion\n",
    "\n",
    "Crear un objeto del tipo CondicionesAdquisicion con distintos parámetros.\n",
    "Si se deja alguno sin contenido se le pone un valor por defecto.\n",
    "\n",
    "| Parámetro         | Descripción                                                                 | Valores posibles                                       | Valor por defecto     |\n",
    "|-------------------|-----------------------------------------------------------------------------|--------------------------------------------------------|------------------------|\n",
    "| `N_ca`            | Cantidad de promedios por canal                                             | Entero positivo                                        | `100`                 |\n",
    "| `frec_objetivo`   | Frecuencia deseada de muestreo (antes del ajuste real)                      | Número en Hz                                           | `1000000`             |\n",
    "| `trigger_mode`    | Modo de disparo para la adquisición                                         | `CONTINUO`, `NIVEL`, `EXTERNO`                         | `NIVEL`               |\n",
    "| `trigger_level`   | Nivel de disparo en voltios (si se usa `NIVEL` como trigger)                | Número en voltios                                      | `0`                   |\n",
    "\n",
    "\n",
    "Otros parámetros se ajustan automíticamente a partir de frec_objetivo y N:\n",
    "\n",
    "\n",
    "| Parámetro         | Descripción                                                                 | Valores posibles                            | Modo de cálculo             |\n",
    "|-------------------|-----------------------------------------------------------------------------|---------------------------------------------|-----------------------------|\n",
    "| `K`               | Valor de sobremuestreo                                                      | Entero positivo                             | A partir de `frec_objetivo` y tamaño de buffer |\n",
    "| `M`               | Número de muestras por canal                                                | Entero positivo                             | A partir de `K` y `frec_objetivo`              |\n",
    "| `log2_divisor`    | Logaritmo base 2 del divisor adicional aplicado a la FPGA                   | Entero no negativo                          | Ajustado según límite de bits internos         |\n",
    "\n",
    "### 2. Ejecutar medición\n",
    "\n",
    "Se inicializa con las condiciones deseadas y devuelve los datos con la adquisición de los dos canales (ch_a,ch_b)\n",
    "\n",
    "### Ejemplo completo:\n",
    "\n",
    "```python\n",
    "from adquisidor_functions import adquisidor\n",
    "from condiciones_adquisicion import TriggerMode,CondicionesAdquisicion;\n",
    "\n",
    "adquisidor.set_fpga()\n",
    "\n",
    "ch_a, ch_b = adquisidor.adquirir(CondicionesAdquisicion(\n",
    "            N_ca=1,\n",
    "            frec_objetivo=1000000,\n",
    "            trigger_mode=TriggerMode.NIVEL,\n",
    "            trigger_level=0\n",
    "        ))\n",
    "            \n",
    "print(ch_a)\n",
    "\n",
    "```"
   ]
  },
  {
   "cell_type": "code",
   "execution_count": 2,
   "metadata": {
    "vscode": {
     "languageId": "plaintext"
    }
   },
   "outputs": [
    {
     "name": "stdout",
     "output_type": "stream",
     "text": [
      "El bitstream 'adquisidor_experimental.bit' ya está cargado.\n",
      "N_ca=1, frec_dac=999999.6982514858, M=125, K=1, log2_divisor=0, trigger_mode=Disparo por nivel, trigger_level=0\n",
      "[0.15475040039062501, 0.18167239746093752, 0.198377841796875, 0.2170161474609375, 0.239796298828125, 0.27610647949218753, 0.3028904150390625, 0.32649893554687504, 0.34679397949218754, 0.3572866552734375, 0.37910037597656254, 0.39856705078125004, 0.425903232421875, 0.4423325537109375, 0.4542058447265625, 0.4635940283203125, 0.4718777197265625, 0.4945198095703125, 0.5068072851562501, 0.5172999609375, 0.5217179296875, 0.5235127294921875, 0.530829990234375, 0.5409084814453126, 0.5457406347656251, 0.546292880859375, 0.5415987890625, 0.5342815283203125, 0.536352451171875, 0.5345576513671875, 0.5348337744140625, 0.5290351904296875, 0.5157812841796875, 0.50791177734375, 0.48803091796875003, 0.4829226416015625, 0.4753292578125, 0.461246982421875, 0.4448176611328125, 0.42120914062500003, 0.40257083496093754, 0.387246005859375, 0.3683315771484375, 0.35328287109375, 0.3310549658203125, 0.299715, 0.280110263671875, 0.25111734375, 0.233169345703125, 0.21246011718750002, 0.18346719726562502, 0.156131015625, 0.125205234375, 0.1051863134765625, 0.0761933935546875, 0.053137119140625, 0.020554599609374998, -0.011475673828125001, -0.0356364404296875, -0.061177822265625, -0.0858908349609375, -0.1122605859375, -0.1416676904296875, -0.17121285644531248, -0.1963400537109375, -0.2217433740234375, -0.24714669433593747, -0.26412826171875, -0.2896696435546875, -0.319628994140625, -0.3415807763671875, -0.3669840966796875, -0.37747677246093747, -0.3948725244140625, -0.4148914453125, -0.43808578125, -0.4612801171875, -0.468735439453125, -0.47798556152343746, -0.4862692529296875, -0.4995231591796875, -0.5191278955078125, -0.5332101708984375, -0.5365236474609375, -0.5367997705078125, -0.5383184472656249, -0.54577376953125, -0.553229091796875, -0.5595799218749999, -0.5541955224609375, -0.5439789697265625, -0.5384565087890625, -0.539975185546875, -0.5384565087890625, -0.5345907861328125, -0.5231316796875, -0.5050456201171875, -0.495519375, -0.485855068359375, -0.4724631005859375, -0.461003994140625, -0.4413992578125, -0.4274550439453125, -0.40439876953125, -0.38368954101562497, -0.3653273583984375, -0.34586068359375, -0.32446114746093746, -0.29878170410156246, -0.2786247216796875, -0.25142660156249996, -0.2275419580078125, -0.19979159179687497, -0.17687337890625, -0.15726864257812498, -0.1239958154296875, -0.1012156640625, -0.06531966796875, -0.041573085937500004, -0.020863857421875, 0.014617954101562499, 0.016965, 0.016965, 0.016965]\n"
     ]
    },
    {
     "data": {
      "text/plain": [
       "[<matplotlib.lines.Line2D at 0xad600d90>]"
      ]
     },
     "execution_count": 2,
     "metadata": {},
     "output_type": "execute_result"
    }
   ],
   "source": [
    "from adquisidor_functions import adquisidor\n",
    "from condiciones_adquisicion import TriggerMode,CondicionesAdquisicion;\n",
    "\n",
    "adquisidor.set_fpga()\n",
    "\n",
    "ch_a, ch_b = adquisidor.adquirir(CondicionesAdquisicion(\n",
    "            N_ca=1,\n",
    "            frec_objetivo=1000000,\n",
    "            trigger_mode=TriggerMode.NIVEL,\n",
    "            trigger_level=0\n",
    "        ))\n",
    "            \n",
    "print(ch_a)"
   ]
  },
  {
   "cell_type": "code",
   "execution_count": null,
   "metadata": {
    "collapsed": true
   },
   "outputs": [],
   "source": []
  }
 ],
 "metadata": {
  "kernelspec": {
   "display_name": "Python 3",
   "language": "python",
   "name": "python3"
  },
  "language_info": {
   "codemirror_mode": {
    "name": "ipython",
    "version": 3
   },
   "file_extension": ".py",
   "mimetype": "text/x-python",
   "name": "python",
   "nbconvert_exporter": "python",
   "pygments_lexer": "ipython3",
   "version": "3.5.2"
  }
 },
 "nbformat": 4,
 "nbformat_minor": 5
}
