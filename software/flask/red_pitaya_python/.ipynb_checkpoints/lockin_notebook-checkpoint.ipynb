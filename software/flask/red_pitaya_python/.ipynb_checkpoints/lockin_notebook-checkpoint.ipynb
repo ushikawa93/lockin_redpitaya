{
 "cells": [
  {
   "cell_type": "markdown",
   "metadata": {},
   "source": [
    "# Lock-in FPGA Interface\n",
    "\n",
    "Este proyecto permite controlar una FPGA con un lock-in digital. Incluye funciones para configurar parámetros de medición, iniciar adquisiciones, obtener resultados procesados y leer directamente desde el ADC.\n",
    "\n",
    "## 📁 Archivos\n",
    "\n",
    "- `lockin.py`: Clase principal con métodos para configurar y operar el lock-in.\n",
    "- `resultado_lockin.py`: Contiene las clases auxiliares `CondicionesMedicion`, `ResultadoLockin`, `FuenteDatos`, `ModoDecimacion`.\n",
    "- `fpga_bridge.py`: Interfaz para comunicación con la FPGA.\n",
    "\n",
    "## 🔧 Métodos principales (lockin.py)\n",
    "\n",
    "- `lockin.set_fpga(name)`: Carga un bitstream en la FPGA\n",
    "- `lockin.MedirLockin(cond)`: Ejecuta medición completa.\n",
    "- `lockin.leer_adc(reset=True, K=1)`: Lee contenido del ADC.\n",
    "\n",
    "## ⚙️ Uso\n",
    "\n",
    "### 1. Crear condiciones de medición\n",
    "\n",
    "Crear un objeto del tipo CondicionesMedicion con distintos parámetros.\n",
    "Si se deja alguno sin contenido se le pone un valor por defecto.\n",
    "\n",
    "| Parámetro              | Descripción                           | Valores posibles                    | Valor por defecto |\n",
    "|------------------------|---------------------------------------|-------------------------------------|-------------------|\n",
    "| Frecuencia de referencia | Frecuencia de la señal de referencia | Número en Hz                         | `1000000`            |\n",
    "| Frecuencia del DAC     | Frecuencia de salida del DAC         | Número en Hz                         | `10000000`           |\n",
    "| N ciclos de filtro MAF | Ancho del filtro MAF (media móvil)   | Número entero                        | `32`              |\n",
    "| Fuente de datos        | Fuente de los datos de entrada       | `SIM`, `ADC`                         | `SIM`             |\n",
    "| Modo de decimación     | Estrategia de decimación              | `DISCARD`, `PROM`                   | `DISCARD`            |\n",
    "| Valor de decimación    | Factor de sobremuestreo              | Número entero                        | `1`               |\n",
    "\n",
    "\n",
    "### 2. Ejecutar medición\n",
    "\n",
    "Se inicializa con las condiciones deseadas y devuelve un objeto de tipo ResultadoLockin\n",
    "\n",
    "#### 📊 ResultadoLockin\n",
    "\n",
    "| Variable     | Descripción                    | Unidades     |\n",
    "|--------------|--------------------------------|--------------|\n",
    "| `x`          | Componente en fase             | Voltios (V)  |\n",
    "| `y`          | Componente en cuadratura       | Voltios (V)  |\n",
    "| `r`          | Magnitud (voltaje)             | Voltios (V)  |\n",
    "| `phi`        | Fase                           | Radianes     |\n",
    "| `condiciones`| Configuración usada            | —            |\n",
    "\n",
    "\n",
    "### 3. Leer datos del ADC (opcional)\n",
    "\n",
    "También se pueden leer los datos obtenidos con el ADC durante el lockin. En este modo el buffer tiene espacio para 512 muestras. Esta funcion debe conocer el factor de sobremuestreo usado para dar resultados confiables. Además tiene la opción de resetear o no la operación antes de leer la señal.\n",
    "\n",
    "### Ejemplo completo:\n",
    "\n",
    "```python\n",
    "from resultado_lockin import CondicionesMedicion, FuenteDatos\n",
    "from lockin import lockin\n",
    "\n",
    "cond = CondicionesMedicion(\n",
    "    frec_ref=1000,\n",
    "    frec_dac=1000,\n",
    "    N=64,\n",
    "    fuente_datos=FuenteDatos.SIM,\n",
    "    modo_decimacion=ModoDecimacion.DISCARD,\n",
    "    decimador=2\n",
    ")\n",
    "\n",
    "resultado = lockin.MedirLockin(cond)\n",
    "\n",
    "print(\"R =\", resultado.r, \"V\")\n",
    "print(\"Fase =\", resultado.phi, \"rad\")\n",
    "\n",
    "datos = lockin.leer_adc(reset=True, K=2)\n",
    "```\n",
    "\n"
   ]
  },
  {
   "cell_type": "code",
   "execution_count": 1,
   "metadata": {},
   "outputs": [
    {
     "name": "stdout",
     "output_type": "stream",
     "text": [
      "El bitstream 'lockin_estable.bit' ya está cargado.\n",
      "r=0.5313801619921417\n",
      "phi=-3.0033025773905894e-06\n",
      "x=33554394.6715\n",
      "y=-100.774\n",
      "\n",
      " Condiciones: frec_ref=1000000, frec_dac=1000000, N=32\n",
      " fuente_datos=Simulacion, modo_decimacion=Descarte, decimador=1\n",
      "\n",
      "Datos Promediados:4000\n",
      "\n"
     ]
    },
    {
     "data": {
      "text/plain": [
       "<resultado_lockin.ResultadoLockin at 0xb1c96790>"
      ]
     },
     "execution_count": 1,
     "metadata": {},
     "output_type": "execute_result"
    }
   ],
   "source": [
    "from lockin_functions import lockin  \n",
    "from resultado_lockin import CondicionesMedicion,FuenteDatos,ModoDecimacion,ResultadoLockin;\n",
    "\n",
    "lockin.set_fpga()\n",
    "\n",
    "# Todo listo para medir con el lockin!\n",
    "# Ejemplo: \n",
    "lockin.MedirLockin() # Medición con valores por defecto"
   ]
  },
  {
   "cell_type": "code",
   "execution_count": null,
   "metadata": {
    "collapsed": true
   },
   "outputs": [],
   "source": []
  }
 ],
 "metadata": {
  "kernelspec": {
   "display_name": "Python 3",
   "language": "python",
   "name": "python3"
  },
  "language_info": {
   "codemirror_mode": {
    "name": "ipython",
    "version": 3
   },
   "file_extension": ".py",
   "mimetype": "text/x-python",
   "name": "python",
   "nbconvert_exporter": "python",
   "pygments_lexer": "ipython3",
   "version": "3.5.2"
  }
 },
 "nbformat": 4,
 "nbformat_minor": 2
}
